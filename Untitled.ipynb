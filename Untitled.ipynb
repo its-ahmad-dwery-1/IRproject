{
 "cells": [
  {
   "cell_type": "code",
   "execution_count": 1,
   "id": "309f6cf0",
   "metadata": {},
   "outputs": [
    {
     "ename": "NameError",
     "evalue": "name 'b' is not defined",
     "output_type": "error",
     "traceback": [
      "\u001b[1;31m---------------------------------------------------------------------------\u001b[0m",
      "\u001b[1;31mNameError\u001b[0m                                 Traceback (most recent call last)",
      "Cell \u001b[1;32mIn[1], line 1\u001b[0m\n\u001b[1;32m----> 1\u001b[0m \u001b[43mb\u001b[49m\n",
      "\u001b[1;31mNameError\u001b[0m: name 'b' is not defined"
     ]
    }
   ],
   "source": []
  },
  {
   "cell_type": "code",
   "execution_count": null,
   "id": "e8589234",
   "metadata": {},
   "outputs": [],
   "source": [
    "pip install googletrans==4.0.0-rc1"
   ]
  },
  {
   "cell_type": "code",
   "execution_count": 2,
   "id": "9ce25f1c",
   "metadata": {},
   "outputs": [
    {
     "data": {
      "text/plain": [
       "10"
      ]
     },
     "execution_count": 2,
     "metadata": {},
     "output_type": "execute_result"
    }
   ],
   "source": [
    "5 + 5"
   ]
  },
  {
   "cell_type": "code",
   "execution_count": 4,
   "id": "ace9e9fa",
   "metadata": {},
   "outputs": [],
   "source": [
    "\n",
    "import nltk\n",
    "\n"
   ]
  },
  {
   "cell_type": "code",
   "execution_count": 5,
   "id": "c3d6ec74",
   "metadata": {},
   "outputs": [
    {
     "name": "stdout",
     "output_type": "stream",
     "text": [
      "showing info https://raw.githubusercontent.com/nltk/nltk_data/gh-pages/index.xml\n"
     ]
    },
    {
     "data": {
      "text/plain": [
       "True"
      ]
     },
     "execution_count": 5,
     "metadata": {},
     "output_type": "execute_result"
    }
   ],
   "source": [
    "nltk.download()\n"
   ]
  },
  {
   "cell_type": "code",
   "execution_count": null,
   "id": "22b8b039",
   "metadata": {},
   "outputs": [],
   "source": [
    "pip install ir-datasets"
   ]
  },
  {
   "cell_type": "code",
   "execution_count": 7,
   "id": "59dc628f",
   "metadata": {},
   "outputs": [
    {
     "name": "stderr",
     "output_type": "stream",
     "text": [
      "[INFO] [starting] http://ir.dcs.gla.ac.uk/resources/test_collections/npl/npl.tar.gz\n",
      "[INFO] [finished] http://ir.dcs.gla.ac.uk/resources/test_collections/npl/npl.tar.gz: [00:11] [2.13MB] [180kB/s]\n",
      "                                                                                             \r"
     ]
    }
   ],
   "source": [
    "import ir_datasets\n",
    "dataset = ir_datasets.load(\"vaswani\")\n",
    "for query in dataset.queries_iter():\n",
    "    query # namedtuple<query_id, text>"
   ]
  },
  {
   "cell_type": "code",
   "execution_count": 8,
   "id": "018954cf",
   "metadata": {},
   "outputs": [],
   "source": [
    "import ir_datasets\n",
    "dataset = ir_datasets.load(\"vaswani\")\n",
    "for doc in dataset.docs_iter():\n",
    "    doc # namedtuple<doc_id, text>"
   ]
  },
  {
   "cell_type": "code",
   "execution_count": null,
   "id": "f60659d9",
   "metadata": {},
   "outputs": [
    {
     "ename": "",
     "evalue": "",
     "output_type": "error",
     "traceback": [
      "\u001b[1;31mRunning cells with 'c:\\Users\\User\\AppData\\Local\\Programs\\Python\\Python311\\python.exe' requires the ipykernel package.\n",
      "\u001b[1;31mRun the following command to install 'ipykernel' into the Python environment. \n",
      "\u001b[1;31mCommand: 'c:/Users/User/AppData/Local/Programs/Python/Python311/python.exe -m pip install ipykernel -U --user --force-reinstall'"
     ]
    }
   ],
   "source": [
    "import pyterrier as pt\n",
    "pt.init()\n",
    "dataset = pt.get_dataset('irds:cord19/trec-covid/round3')\n",
    "# Index cord19/trec-covid/round3\n",
    "indexer = pt.IterDictIndexer('./indices/cord19_trec-covid_round3')\n",
    "index_ref = indexer.index(dataset.get_corpus_iter(), fields=['title', 'doi', 'date', 'abstract'])"
   ]
  },
  {
   "cell_type": "code",
   "execution_count": 1,
   "id": "69c87c25",
   "metadata": {},
   "outputs": [],
   "source": [
    "import nltk\n"
   ]
  }
 ],
 "metadata": {
  "kernelspec": {
   "display_name": "Python 3 (ipykernel)",
   "language": "python",
   "name": "python3"
  },
  "language_info": {
   "codemirror_mode": {
    "name": "ipython",
    "version": 3
   },
   "file_extension": ".py",
   "mimetype": "text/x-python",
   "name": "python",
   "nbconvert_exporter": "python",
   "pygments_lexer": "ipython3",
   "version": "3.10.9"
  }
 },
 "nbformat": 4,
 "nbformat_minor": 5
}
